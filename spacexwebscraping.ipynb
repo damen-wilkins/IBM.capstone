{
 "cells": [
  {
   "cell_type": "code",
   "execution_count": 1,
   "id": "ed2a753f-bb35-4b93-bad0-1568e7c328dd",
   "metadata": {
    "tags": []
   },
   "outputs": [
    {
     "name": "stdout",
     "output_type": "stream",
     "text": [
      "Requirement already satisfied: beautifulsoup4 in /home/jupyterlab/conda/envs/python/lib/python3.7/site-packages (4.11.1)\n",
      "Requirement already satisfied: soupsieve>1.2 in /home/jupyterlab/conda/envs/python/lib/python3.7/site-packages (from beautifulsoup4) (2.3.2.post1)\n",
      "Requirement already satisfied: requests in /home/jupyterlab/conda/envs/python/lib/python3.7/site-packages (2.29.0)\n",
      "Requirement already satisfied: charset-normalizer<4,>=2 in /home/jupyterlab/conda/envs/python/lib/python3.7/site-packages (from requests) (3.1.0)\n",
      "Requirement already satisfied: idna<4,>=2.5 in /home/jupyterlab/conda/envs/python/lib/python3.7/site-packages (from requests) (3.4)\n",
      "Requirement already satisfied: urllib3<1.27,>=1.21.1 in /home/jupyterlab/conda/envs/python/lib/python3.7/site-packages (from requests) (1.26.15)\n",
      "Requirement already satisfied: certifi>=2017.4.17 in /home/jupyterlab/conda/envs/python/lib/python3.7/site-packages (from requests) (2023.5.7)\n"
     ]
    }
   ],
   "source": [
    "!pip3 install beautifulsoup4\n",
    "!pip3 install requests\n",
    "\n",
    "import sys\n",
    "\n",
    "import requests\n",
    "from bs4 import BeautifulSoup\n",
    "import re\n",
    "import unicodedata\n",
    "import pandas as pd"
   ]
  },
  {
   "cell_type": "code",
   "execution_count": 2,
   "id": "155cd907-273c-4d70-9fdb-0eebb6301ca2",
   "metadata": {
    "tags": []
   },
   "outputs": [],
   "source": [
    "def date_time(table_cells):\n",
    "    \"\"\"\n",
    "    This function returns the data and time from the HTML  table cell\n",
    "    Input: the  element of a table data cell extracts extra row\n",
    "    \"\"\"\n",
    "    return [data_time.strip() for data_time in list(table_cells.strings)][0:2]\n",
    "\n",
    "def booster_version(table_cells):\n",
    "    \"\"\"\n",
    "    This function returns the booster version from the HTML  table cell \n",
    "    Input: the  element of a table data cell extracts extra row\n",
    "    \"\"\"\n",
    "    out=''.join([booster_version for i,booster_version in enumerate( table_cells.strings) if i%2==0][0:-1])\n",
    "    return out\n",
    "\n",
    "def landing_status(table_cells):\n",
    "    \"\"\"\n",
    "    This function returns the landing status from the HTML table cell \n",
    "    Input: the  element of a table data cell extracts extra row\n",
    "    \"\"\"\n",
    "    out=[i for i in table_cells.strings][0]\n",
    "    return out\n",
    "\n",
    "\n",
    "def get_mass(table_cells):\n",
    "    mass=unicodedata.normalize(\"NFKD\", table_cells.text).strip()\n",
    "    if mass:\n",
    "        mass.find(\"kg\")\n",
    "        new_mass=mass[0:mass.find(\"kg\")+2]\n",
    "    else:\n",
    "        new_mass=0\n",
    "    return new_mass\n",
    "\n",
    "\n",
    "def extract_column_from_header(row):\n",
    "    \"\"\"\n",
    "    This function returns the landing status from the HTML table cell \n",
    "    Input: the  element of a table data cell extracts extra row\n",
    "    \"\"\"\n",
    "    if (row.br):\n",
    "        row.br.extract()\n",
    "    if row.a:\n",
    "        row.a.extract()\n",
    "    if row.sup:\n",
    "        row.sup.extract()\n",
    "        \n",
    "    colunm_name = ' '.join(row.contents)\n",
    "    \n",
    "    # Filter the digit and empty names\n",
    "    if not(colunm_name.strip().isdigit()):\n",
    "        colunm_name = colunm_name.strip()\n",
    "        return colunm_name    \n"
   ]
  },
  {
   "cell_type": "code",
   "execution_count": 3,
   "id": "61e7df90-22a6-4955-8384-a7f5be38a023",
   "metadata": {
    "tags": []
   },
   "outputs": [],
   "source": [
    "static_url = \"https://en.wikipedia.org/w/index.php?title=List_of_Falcon_9_and_Falcon_Heavy_launches&oldid=1027686922\""
   ]
  },
  {
   "cell_type": "code",
   "execution_count": 4,
   "id": "e4212df3-6fbb-4fcb-871a-d3cdfe99ab04",
   "metadata": {
    "tags": []
   },
   "outputs": [
    {
     "name": "stdout",
     "output_type": "stream",
     "text": [
      "Page Title: List of Falcon 9 and Falcon Heavy launches - Wikipedia\n"
     ]
    }
   ],
   "source": [
    "import requests\n",
    "from bs4 import BeautifulSoup\n",
    "\n",
    "# URL for Falcon9 Launch Wiki page\n",
    "static_url = \"https://en.wikipedia.org/w/index.php?title=List_of_Falcon_9_and_Falcon_Heavy_launches&oldid=1027686922\"\n",
    "\n",
    "# Make an HTTP GET request\n",
    "response = requests.get(static_url)\n",
    "\n",
    "# Check if the request was successful (status code 200)\n",
    "if response.status_code == 200:\n",
    "    # Create a BeautifulSoup object\n",
    "    soup = BeautifulSoup(response.text, 'html.parser')\n",
    "\n",
    "    # Print the page title\n",
    "    print(\"Page Title:\", soup.title.text)\n",
    "else:\n",
    "    print(f\"Error: {response.status_code}\")"
   ]
  },
  {
   "cell_type": "code",
   "execution_count": 5,
   "id": "18b55638-cac5-4b47-9349-17bb46067f24",
   "metadata": {
    "tags": []
   },
   "outputs": [
    {
     "name": "stdout",
     "output_type": "stream",
     "text": [
      "['Flight No.', 'UTC', 'Version,Booster', 'Launch site', '[c]', 'Payload mass', 'Orbit', 'Customer', 'Launch', 'Boosterlanding', '1', '2', '3', '4', '5', '6', '7']\n"
     ]
    }
   ],
   "source": [
    "# Define the extract_column_from_header function\n",
    "def extract_column_from_header(header):\n",
    "    \"\"\"\n",
    "    Extracts text from a th (table header) element, cleaning and formatting the text.\n",
    "\n",
    "    Parameters:\n",
    "    - header: BeautifulSoup th element\n",
    "\n",
    "    Returns:\n",
    "    - Cleaned and formatted text\n",
    "    \"\"\"\n",
    "    if header.a:\n",
    "        return header.a.text.strip()\n",
    "    else:\n",
    "        return header.contents[0].strip()\n",
    "\n",
    "# Find all tables in the HTML\n",
    "html_tables = soup.find_all('table')\n",
    "\n",
    "# Our target table is the third table\n",
    "first_launch_table = html_tables[2]\n",
    "\n",
    "# Extract column names\n",
    "column_names = []\n",
    "\n",
    "# Apply find_all() function with `th` element on first_launch_table\n",
    "for header in first_launch_table.find_all('th'):\n",
    "    name = extract_column_from_header(header)\n",
    "    if name is not None and len(name) > 0:\n",
    "        column_names.append(name)\n",
    "\n",
    "# Check the extracted column names\n",
    "print(column_names)"
   ]
  },
  {
   "cell_type": "code",
   "execution_count": 12,
   "id": "9f57b51a-9205-479c-ac83-c157489df59a",
   "metadata": {
    "tags": []
   },
   "outputs": [],
   "source": [
    "launch_dict = dict.fromkeys(column_names)\n",
    "\n",
    "# Remove an irrelevant column\n",
    "launch_dict.pop('Date and time ( )', None)\n",
    "\n",
    "# Let's initialize the launch_dict with each value to be an empty list\n",
    "launch_dict['Flight No.'] = []\n",
    "launch_dict['Launch site'] = []\n",
    "launch_dict['Payload'] = []\n",
    "launch_dict['Payload mass'] = []\n",
    "launch_dict['Orbit'] = []\n",
    "launch_dict['Customer'] = []\n",
    "launch_dict['Launch outcome'] = []\n",
    "# Added some new columns\n",
    "launch_dict['Version Booster'] = []\n",
    "launch_dict['Booster landing'] = []\n",
    "launch_dict['Date'] = []\n",
    "launch_dict['Time'] = []"
   ]
  },
  {
   "cell_type": "code",
   "execution_count": 13,
   "id": "0fad4948-1315-45da-951d-1de536db4287",
   "metadata": {
    "tags": []
   },
   "outputs": [],
   "source": [
    "# Inside the loop where you're processing each row\n",
    "if flag:\n",
    "    extracted_row += 1\n",
    "\n",
    "    # Flight Number value\n",
    "    # TODO: Append the flight_number into launch_dict with key `Flight No.`\n",
    "    launch_dict['Flight No.'].append(flight_number)\n",
    "\n",
    "    # Date value\n",
    "    # TODO: Append the date into launch_dict with key `Date`\n",
    "    launch_dict['Date'].append(date)\n",
    "\n",
    "    # Time value\n",
    "    # TODO: Append the time into launch_dict with key `Time`\n",
    "    launch_dict['Time'].append(time)\n",
    "\n",
    "    # Booster version\n",
    "    # TODO: Append the bv into launch_dict with key `Version Booster`\n",
    "    launch_dict['Version Booster'].append(bv)\n",
    "\n",
    "    # Launch Site\n",
    "    # TODO: Append the launch_site into launch_dict with key `Launch Site`\n",
    "    launch_dict['Launch site'].append(launch_site)\n",
    "\n",
    "    # Payload\n",
    "    # TODO: Append the payload into launch_dict with key `Payload`\n",
    "    launch_dict['Payload'].append(payload)\n",
    "\n",
    "    # Payload Mass\n",
    "    # TODO: Append the payload_mass into launch_dict with key `Payload mass`\n",
    "    launch_dict['Payload mass'].append(payload_mass)\n",
    "\n",
    "    # Orbit\n",
    "    # TODO: Append the orbit into launch_dict with key `Orbit`\n",
    "    launch_dict['Orbit'].append(orbit)\n",
    "\n",
    "    # Customer\n",
    "    # TODO: Append the customer into launch_dict with key `Customer`\n",
    "    launch_dict['Customer'].append(customer)\n",
    "\n",
    "    # Launch outcome\n",
    "    # TODO: Append the launch_outcome into launch_dict with key `Launch outcome`\n",
    "    launch_dict['Launch outcome'].append(launch_outcome)\n",
    "\n",
    "    # Booster landing\n",
    "    # TODO: Append the booster_landing into launch_dict with key `Booster landing`\n",
    "    launch_dict['Booster landing'].append(booster_landing)"
   ]
  },
  {
   "cell_type": "code",
   "execution_count": 15,
   "id": "545f466f-92a9-4d7a-aab5-2c80f7995bd3",
   "metadata": {
    "tags": []
   },
   "outputs": [],
   "source": [
    "df = pd.DataFrame({key: pd.Series(value, dtype='object') for key, value in launch_dict.items()})\n"
   ]
  },
  {
   "cell_type": "code",
   "execution_count": 16,
   "id": "793550a8-d791-43cd-a5f8-83b3bcabf175",
   "metadata": {
    "tags": []
   },
   "outputs": [],
   "source": [
    "df.to_csv('spacex_web_scraped.csv', index=False)"
   ]
  },
  {
   "cell_type": "code",
   "execution_count": null,
   "id": "9913a265-1296-42f8-9956-879ad231e124",
   "metadata": {},
   "outputs": [],
   "source": []
  }
 ],
 "metadata": {
  "kernelspec": {
   "display_name": "Python",
   "language": "python",
   "name": "conda-env-python-py"
  },
  "language_info": {
   "codemirror_mode": {
    "name": "ipython",
    "version": 3
   },
   "file_extension": ".py",
   "mimetype": "text/x-python",
   "name": "python",
   "nbconvert_exporter": "python",
   "pygments_lexer": "ipython3",
   "version": "3.7.12"
  }
 },
 "nbformat": 4,
 "nbformat_minor": 5
}
